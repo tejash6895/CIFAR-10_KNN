{
  "nbformat": 4,
  "nbformat_minor": 0,
  "metadata": {
    "colab": {
      "provenance": []
    },
    "kernelspec": {
      "name": "python3",
      "display_name": "Python 3"
    },
    "language_info": {
      "name": "python"
    }
  },
  "cells": [
    {
      "cell_type": "markdown",
      "source": [
        "## Pull the Data"
      ],
      "metadata": {
        "id": "pmc_UePdFrmX"
      }
    },
    {
      "cell_type": "code",
      "source": [
        "!wget https://www.cs.toronto.edu/~kriz/cifar-10-python.tar.gz"
      ],
      "metadata": {
        "colab": {
          "base_uri": "https://localhost:8080/"
        },
        "id": "oBi0nyMe3nYT",
        "outputId": "e7b323dd-70f7-4dc9-e57d-9698509533b1"
      },
      "execution_count": 11,
      "outputs": [
        {
          "output_type": "stream",
          "name": "stdout",
          "text": [
            "--2024-01-12 06:51:39--  https://www.cs.toronto.edu/~kriz/cifar-10-python.tar.gz\n",
            "Resolving www.cs.toronto.edu (www.cs.toronto.edu)... 128.100.3.30\n",
            "Connecting to www.cs.toronto.edu (www.cs.toronto.edu)|128.100.3.30|:443... connected.\n",
            "HTTP request sent, awaiting response... 200 OK\n",
            "Length: 170498071 (163M) [application/x-gzip]\n",
            "Saving to: ‘cifar-10-python.tar.gz.1’\n",
            "\n",
            "cifar-10-python.tar 100%[===================>] 162.60M  56.6MB/s    in 2.9s    \n",
            "\n",
            "2024-01-12 06:51:42 (56.6 MB/s) - ‘cifar-10-python.tar.gz.1’ saved [170498071/170498071]\n",
            "\n"
          ]
        }
      ]
    },
    {
      "cell_type": "markdown",
      "source": [
        "## Unzip the data"
      ],
      "metadata": {
        "id": "wc6sX2wWFxUX"
      }
    },
    {
      "cell_type": "code",
      "source": [
        "import tarfile\n",
        "\n",
        "# Define the path to the tar.gz file\n",
        "tar_file_path = '/content/cifar-10-python.tar.gz'\n",
        "\n",
        "# Specify the directory where you want to extract the contents\n",
        "extracted_dir_path = '/content/cifar-10-python/'\n",
        "\n",
        "# Open and extract the tar.gz file\n",
        "with tarfile.open(tar_file_path, 'r:gz') as tar:\n",
        "    tar.extractall(path=extracted_dir_path)\n",
        "\n",
        "# List the contents of the extracted directory (optional)\n",
        "!ls -l {extracted_dir_path}\n"
      ],
      "metadata": {
        "colab": {
          "base_uri": "https://localhost:8080/"
        },
        "id": "eL_dabqA31EV",
        "outputId": "0e37d621-8535-444e-b161-a3694fa78427"
      },
      "execution_count": 12,
      "outputs": [
        {
          "output_type": "stream",
          "name": "stdout",
          "text": [
            "total 4\n",
            "drwxr-xr-x 2 2156 1103 4096 Jun  4  2009 cifar-10-batches-py\n"
          ]
        }
      ]
    },
    {
      "cell_type": "markdown",
      "source": [
        "##Import Moduls"
      ],
      "metadata": {
        "id": "Uzl6vQi5F-y8"
      }
    },
    {
      "cell_type": "code",
      "source": [
        "import numpy as np\n",
        "import pickle\n",
        "import os\n",
        "from sklearn.model_selection import train_test_split\n",
        "from sklearn.neighbors import KNeighborsClassifier\n",
        "from sklearn.metrics import accuracy_score"
      ],
      "metadata": {
        "id": "Ez3c2EEB_RIl"
      },
      "execution_count": 13,
      "outputs": []
    },
    {
      "cell_type": "code",
      "source": [
        "cifar_dataset_path = '/content/cifar-10-python/cifar-10-batches-py'"
      ],
      "metadata": {
        "id": "_7r66Ti5cKJK"
      },
      "execution_count": 14,
      "outputs": []
    },
    {
      "cell_type": "code",
      "source": [
        "import matplotlib.pyplot as plt\n",
        "\n",
        "def load_all_batches(cifar_dataset_path):\n",
        "    # Initialize lists to hold all images and labels\n",
        "    all_images = []\n",
        "    all_labels = []\n",
        "\n",
        "    # Load all data batches\n",
        "    for i in range(1, 6):  # There are 5 data batches in CIFAR-10\n",
        "        batch = load_data_batch(f'{cifar_dataset_path}/data_batch_{i}')\n",
        "        all_images.append(batch[b'data'])\n",
        "        all_labels.append(batch[b'labels'])\n",
        "\n",
        "    # Convert lists to numpy arrays and concatenate\n",
        "    all_images = np.concatenate(all_images)\n",
        "    all_labels = np.concatenate(all_labels)\n",
        "\n",
        "    return all_images, all_labels\n",
        "\n",
        "# Load all data batches\n",
        "images, labels = load_all_batches(cifar_dataset_path)\n"
      ],
      "metadata": {
        "id": "5hPeC5Qvb2h9"
      },
      "execution_count": 15,
      "outputs": []
    },
    {
      "cell_type": "markdown",
      "source": [
        "## Process the Images and Prepare the Dataset"
      ],
      "metadata": {
        "id": "wUiNp097c7DT"
      }
    },
    {
      "cell_type": "code",
      "source": [
        "from skimage.feature import hog\n",
        "from skimage import color\n",
        "\n",
        "def apply_hog_to_images(images):\n",
        "    hog_features = []\n",
        "\n",
        "    for image in images:\n",
        "        # Reshape and convert to a 2D grayscale image\n",
        "        image_reshaped = image.reshape(3, 32, 32).transpose(1, 2, 0)\n",
        "        gray_image = color.rgb2gray(image_reshaped)\n",
        "\n",
        "        # Apply HOG feature descriptor\n",
        "        hog_feature = hog(gray_image, pixels_per_cell=(8, 8), cells_per_block=(2, 2), orientations=9)\n",
        "        hog_features.append(hog_feature)\n",
        "\n",
        "    return np.array(hog_features)\n",
        "\n",
        "# Apply HOG to all images\n",
        "hog_features = apply_hog_to_images(images)\n",
        "\n",
        "# Print shape for verification\n",
        "print(f'HOG features shape: {hog_features.shape}')\n"
      ],
      "metadata": {
        "id": "0y0e4_9ub2eg",
        "outputId": "877153a9-af9c-479d-e395-810fbe3403e4",
        "colab": {
          "base_uri": "https://localhost:8080/"
        }
      },
      "execution_count": 16,
      "outputs": [
        {
          "output_type": "stream",
          "name": "stdout",
          "text": [
            "HOG features shape: (50000, 324)\n"
          ]
        }
      ]
    },
    {
      "cell_type": "markdown",
      "source": [
        "## Splitting the Data"
      ],
      "metadata": {
        "id": "bI4aU5ewdQym"
      }
    },
    {
      "cell_type": "code",
      "source": [
        "# Split the dataset into training and testing sets\n",
        "X_train, X_test, y_train, y_test = train_test_split(hog_features, labels, test_size=0.2, random_state=42)\n",
        "\n",
        "print(f'Training set size: {X_train.shape[0]}')\n",
        "print(f'Testing set size: {X_test.shape[0]}')\n"
      ],
      "metadata": {
        "id": "dTxqG9zab2bn",
        "outputId": "9f7481ab-e0c6-4d89-fe88-324c3d50242f",
        "colab": {
          "base_uri": "https://localhost:8080/"
        }
      },
      "execution_count": 17,
      "outputs": [
        {
          "output_type": "stream",
          "name": "stdout",
          "text": [
            "Training set size: 40000\n",
            "Testing set size: 10000\n"
          ]
        }
      ]
    },
    {
      "cell_type": "markdown",
      "source": [
        "## Implement Different Classifiers"
      ],
      "metadata": {
        "id": "RJ_Nowlyda2d"
      }
    },
    {
      "cell_type": "markdown",
      "source": [
        "#k-Nearest Neighbors (kNN)"
      ],
      "metadata": {
        "id": "HevLkHCpdgGk"
      }
    },
    {
      "cell_type": "code",
      "source": [
        "from sklearn.neighbors import KNeighborsClassifier\n",
        "\n",
        "# Initialize the kNN classifier\n",
        "knn = KNeighborsClassifier(n_neighbors=3)\n",
        "\n",
        "# Train the classifier\n",
        "knn.fit(X_train, y_train)\n",
        "\n",
        "# Make predictions\n",
        "y_pred_knn = knn.predict(X_test)\n",
        "\n",
        "# Compute accuracy\n",
        "accuracy_knn = accuracy_score(y_test, y_pred_knn)\n",
        "print(f'kNN Accuracy: {accuracy_knn}')\n"
      ],
      "metadata": {
        "id": "lMDlEaE1b2Yz",
        "outputId": "225fea1a-6cf8-4fed-9875-63fb5ca53cfb",
        "colab": {
          "base_uri": "https://localhost:8080/"
        }
      },
      "execution_count": 18,
      "outputs": [
        {
          "output_type": "stream",
          "name": "stdout",
          "text": [
            "kNN Accuracy: 0.4594\n"
          ]
        }
      ]
    },
    {
      "cell_type": "markdown",
      "source": [
        "# Support Vector Machine (SVM)"
      ],
      "metadata": {
        "id": "RKOwHi-ed0DZ"
      }
    },
    {
      "cell_type": "code",
      "source": [
        "from sklearn.svm import SVC\n",
        "\n",
        "# Initialize the SVM classifier\n",
        "svm = SVC(kernel='linear')\n",
        "\n",
        "# Train the classifier\n",
        "svm.fit(X_train, y_train)\n",
        "\n",
        "# Make predictions\n",
        "y_pred_svm = svm.predict(X_test)\n",
        "\n",
        "# Compute accuracy\n",
        "accuracy_svm = accuracy_score(y_test, y_pred_svm)\n",
        "print(f'SVM Accuracy: {accuracy_svm}')\n"
      ],
      "metadata": {
        "id": "XriVITeIb2WN",
        "outputId": "ced16bfd-6967-4aeb-ea4f-710bb7b7c614",
        "colab": {
          "base_uri": "https://localhost:8080/"
        }
      },
      "execution_count": 19,
      "outputs": [
        {
          "output_type": "stream",
          "name": "stdout",
          "text": [
            "SVM Accuracy: 0.5244\n"
          ]
        }
      ]
    },
    {
      "cell_type": "markdown",
      "source": [
        "# Logistic Regression"
      ],
      "metadata": {
        "id": "bGInLFB_fcGG"
      }
    },
    {
      "cell_type": "code",
      "source": [
        "from sklearn.linear_model import LogisticRegression\n",
        "\n",
        "# Initialize the Logistic Regression classifier\n",
        "log_reg = LogisticRegression(max_iter=1000)\n",
        "\n",
        "# Train the classifier\n",
        "log_reg.fit(X_train, y_train)\n",
        "\n",
        "# Make predictions\n",
        "y_pred_log_reg = log_reg.predict(X_test)\n",
        "\n",
        "# Compute accuracy\n",
        "accuracy_log_reg = accuracy_score(y_test, y_pred_log_reg)\n",
        "print(f'Logistic Regression Accuracy: {accuracy_log_reg}')\n"
      ],
      "metadata": {
        "id": "h9wRB4RVb2TW",
        "outputId": "de3f6eeb-e0e4-40df-bb06-510e049dfa92",
        "colab": {
          "base_uri": "https://localhost:8080/"
        }
      },
      "execution_count": 20,
      "outputs": [
        {
          "output_type": "stream",
          "name": "stdout",
          "text": [
            "Logistic Regression Accuracy: 0.5156\n"
          ]
        }
      ]
    },
    {
      "cell_type": "code",
      "source": [
        "import matplotlib.pyplot as plt\n",
        "\n",
        "# Assuming these variables hold the accuracies of your models\n",
        "accuracy_knn = accuracy_score(y_test, y_pred_knn)\n",
        "print(f'kNN Accuracy: {accuracy_knn}')\n",
        "\n",
        "accuracy_svm = accuracy_score(y_test, y_pred_svm)\n",
        "print(f'SVM Accuracy: {accuracy_svm}')\n",
        "\n",
        "accuracy_log_reg = accuracy_score(y_test, y_pred_log_reg)\n",
        "print(f'Logistic Regression Accuracy: {accuracy_log_reg}')\n",
        "\n",
        "# Classifier names and their corresponding accuracies\n",
        "classifiers = ['kNN', 'SVM', 'Logistic Regression']\n",
        "accuracies = [accuracy_knn, accuracy_svm, accuracy_log_reg]\n",
        "\n",
        "# Creating the bar plot\n",
        "plt.figure(figsize=(8, 5))\n",
        "plt.bar(classifiers, accuracies, color=['blue', 'green', 'red'])\n",
        "plt.xlabel('Classifiers')\n",
        "plt.ylabel('Accuracy')\n",
        "plt.title('Comparison of Classifier Accuracies')\n",
        "plt.ylim(0, 1)  # Assuming accuracy is between 0 and 1\n",
        "\n",
        "# Adding the accuracy values on top of the bars\n",
        "for i in range(len(classifiers)):\n",
        "    plt.text(i, accuracies[i] + 0.02, f'{accuracies[i]:.2f}', ha = 'center')\n",
        "\n",
        "# Show the plot\n",
        "plt.show()\n"
      ],
      "metadata": {
        "id": "GOEgr1Mqb2Qh",
        "outputId": "77249389-dd0a-498d-ad87-dfb843f330fa",
        "colab": {
          "base_uri": "https://localhost:8080/",
          "height": 539
        }
      },
      "execution_count": 22,
      "outputs": [
        {
          "output_type": "stream",
          "name": "stdout",
          "text": [
            "kNN Accuracy: 0.4594\n",
            "SVM Accuracy: 0.5244\n",
            "Logistic Regression Accuracy: 0.5156\n"
          ]
        },
        {
          "output_type": "display_data",
          "data": {
            "text/plain": [
              "<Figure size 800x500 with 1 Axes>"
            ],
            "image/png": "[encoded data removed]"
          },
          "metadata": {}
        }
      ]
    },
    {
      "cell_type": "code",
      "source": [],
      "metadata": {
        "id": "AikEj6rBb2Nc"
      },
      "execution_count": null,
      "outputs": []
    },
    {
      "cell_type": "code",
      "source": [],
      "metadata": {
        "id": "uJzd63HCb2K0"
      },
      "execution_count": null,
      "outputs": []
    },
    {
      "cell_type": "code",
      "source": [],
      "metadata": {
        "id": "ub9ycj39b2II"
      },
      "execution_count": null,
      "outputs": []
    },
    {
      "cell_type": "code",
      "source": [],
      "metadata": {
        "id": "kUui4NtMb2Fj"
      },
      "execution_count": null,
      "outputs": []
    },
    {
      "cell_type": "code",
      "source": [],
      "metadata": {
        "id": "vfj-FIw7b2Cn"
      },
      "execution_count": null,
      "outputs": []
    },
    {
      "cell_type": "code",
      "source": [],
      "metadata": {
        "id": "cPb8yEQVb1_7"
      },
      "execution_count": null,
      "outputs": []
    },
    {
      "cell_type": "code",
      "source": [],
      "metadata": {
        "id": "tiQ8Zo8Rb19P"
      },
      "execution_count": null,
      "outputs": []
    },
    {
      "cell_type": "code",
      "source": [],
      "metadata": {
        "id": "ZWVnWlrLcVU3"
      },
      "execution_count": null,
      "outputs": []
    },
    {
      "cell_type": "code",
      "source": [],
      "metadata": {
        "id": "d1_8QefpcVRd"
      },
      "execution_count": null,
      "outputs": []
    },
    {
      "cell_type": "code",
      "source": [],
      "metadata": {
        "id": "DtKci7XLcVOj"
      },
      "execution_count": null,
      "outputs": []
    },
    {
      "cell_type": "code",
      "source": [],
      "metadata": {
        "id": "EpQ2aoQ1cVLo"
      },
      "execution_count": null,
      "outputs": []
    },
    {
      "cell_type": "code",
      "source": [],
      "metadata": {
        "id": "IDPutNqccVJ7"
      },
      "execution_count": null,
      "outputs": []
    },
    {
      "cell_type": "code",
      "source": [],
      "metadata": {
        "id": "Ca4o3lYVcVHW"
      },
      "execution_count": null,
      "outputs": []
    },
    {
      "cell_type": "code",
      "source": [],
      "metadata": {
        "id": "J5VbjjJecVEu"
      },
      "execution_count": null,
      "outputs": []
    },
    {
      "cell_type": "code",
      "source": [],
      "metadata": {
        "id": "uYc-P7kFcVCG"
      },
      "execution_count": null,
      "outputs": []
    }
  ]
}